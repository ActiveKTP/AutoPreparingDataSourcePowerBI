{
 "cells": [
  {
   "cell_type": "code",
   "execution_count": null,
   "id": "a752ecec-864a-4d3d-a244-1045f6d32a6b",
   "metadata": {},
   "outputs": [],
   "source": [
    "pip install pymysql"
   ]
  },
  {
   "cell_type": "code",
   "execution_count": 2,
   "id": "fa3a0bce-0094-4a43-b3b4-f68da5787a83",
   "metadata": {},
   "outputs": [
    {
     "name": "stdout",
     "output_type": "stream",
     "text": [
      "connection successful\n"
     ]
    }
   ],
   "source": [
    "import pymysql\n",
    "import csv\n",
    "\n",
    "# MySQL database connection parameters\n",
    "db_name = \"my_db_name\"\n",
    "db_host = \"my_db_host\"\n",
    "db_username = \"my_username\"\n",
    "db_password = \"my_password\"\n",
    "\n",
    "# SQL query\n",
    "query = 'SELECT ...' \n",
    "\n",
    "# Connect to the database and fetch data\n",
    "try:\n",
    "    connection = pymysql.connect(host = db_host,\n",
    "                           port = int(3306),\n",
    "                           user = db_username,\n",
    "                           password = db_password,\n",
    "                           db = db_name)\n",
    "except e:\n",
    "    print (e)\n",
    "if connection:\n",
    "    print (\"connection successful\")\n",
    "else:\n",
    "        print (\"error\")\n",
    "\n",
    "cursor = connection.cursor()\n",
    "\n",
    "result = cursor.execute(query)\n",
    "\n",
    "columns = [i[0] for i in cursor.description]\n",
    "\n",
    "rows = cursor.fetchall()\n",
    "\n",
    "# print (rows)\n",
    "# print (columns)\n",
    "\n",
    "with open('data/hw_station_day_kpi.csv', 'w', encoding=\"utf-8\") as csvfile:\n",
    "    myFile = csv.writer(csvfile)\n",
    "    myFile.writerow(columns)\n",
    "    myFile.writerows(rows)\n",
    "    csvfile.close()\n",
    "\n",
    "# Close the cursor\n",
    "cursor.close()\n",
    "connection.close()"
   ]
  }
 ],
 "metadata": {
  "kernelspec": {
   "display_name": "Python 3 (ipykernel)",
   "language": "python",
   "name": "python3"
  },
  "language_info": {
   "codemirror_mode": {
    "name": "ipython",
    "version": 3
   },
   "file_extension": ".py",
   "mimetype": "text/x-python",
   "name": "python",
   "nbconvert_exporter": "python",
   "pygments_lexer": "ipython3",
   "version": "3.12.0"
  }
 },
 "nbformat": 4,
 "nbformat_minor": 5
}
